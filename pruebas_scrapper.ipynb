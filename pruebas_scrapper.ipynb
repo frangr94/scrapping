{
 "cells": [
  {
   "cell_type": "code",
   "execution_count": null,
   "metadata": {},
   "outputs": [],
   "source": [
    "from selenium import webdriver\n",
    "from selenium.webdriver.support.ui import WebDriverWait\n",
    "from selenium.webdriver.support import expected_conditions as EC\n",
    "from selenium.webdriver.common.by import By\n",
    "from selenium.webdriver.common.action_chains import ActionChains\n",
    "import time\n",
    "import pandas as pd\n",
    "import requests\n",
    "import time\n",
    "import datetime\n",
    "import numpy as np\n"
   ]
  },
  {
   "cell_type": "code",
   "execution_count": null,
   "metadata": {},
   "outputs": [],
   "source": [
    "# opciones de navegación\n",
    "# ahora si se puede laburar\n",
    "opt =  webdriver.ChromeOptions()\n",
    "opt.add_argument('--start-maximized')\n",
    "opt.add_argument('--disable-extensions')\n",
    "\n",
    "\n",
    "driver_path = r'/home/frangr94/Desktop/proyecto_scrapper/webdriver/chromedriver.exe'\n",
    "driver = webdriver.Chrome(options=opt)\n",
    "\n",
    "# inicializar navegador y cargar página completa, espefificar día y hora\n",
    "date_time = str(datetime.datetime.now())\n",
    "megatonetienda='https://www.fravega.com/l/?keyword={}'\n",
    "articulo=['auriculares','notebooks','lavado']\n"
   ]
  },
  {
   "cell_type": "code",
   "execution_count": null,
   "metadata": {},
   "outputs": [],
   "source": [
    "# ir a la busqueda\n",
    "# probemos si es mejor asi\n",
    "data=[]\n",
    "for art in articulo:\n",
    "    buscar=megatonetienda.format(art)\n",
    "    driver.get(buscar)\n",
    "    time.sleep(10)\n",
    "    #//*[@id=\"modal\"]/div[1]/button/svg\n",
    "    close = driver.find_element(By.XPATH, '/html/body/div[1]/div[1]/div[1]/button')\n",
    "    close.click()\n",
    "    time.sleep(1)\n",
    "    print(\"se busca en\",buscar,\"en fecha y hora:\",date_time)\n",
    "\n",
    "    # scrapear data scaneando todas las páginas (especificar rango)\n",
    "    itemlist = []\n",
    "    for i in range (100):\n",
    "        page=i+2\n",
    "        items = driver.find_elements(By.XPATH,'//*[@id=\"__next\"]/div[2]/div[1]/div[3]/div[5]/ul/li[1]/article/a/div')\n",
    "        for i in range(len(items)):\n",
    "            itemlist.append(items[i].text)\n",
    "        itemlist = list(filter(None,itemlist))\n",
    "        arrayitems=[]\n",
    "        for i in range (len(itemlist)):\n",
    "       \n",
    "            words=str(itemlist[i]).split('\\n')\n",
    "            words=[x for x in words if 'Sin Interés' not in x]\n",
    "            words=[x for x in words if 'OFF' not in x]\n",
    "            words=[x for x in words if 'Envío' not in x]\n",
    "            words=[x for x in words if 'GRATIS' not in x]\n",
    "            if len(words)<3:\n",
    "                words.append('null')\n",
    "            words.append(date_time)\n",
    "            words.append(art)\n",
    "            print(words)\n",
    "\n",
    "            data.append(words)\n",
    "            \n",
    "        \n",
    "\n",
    "        #driver.execute_script(\"window.scrollBy(0,3500)\")\n",
    "        try:\n",
    "            driver.execute_script(\"window.scrollBy(0,2300)\")\n",
    "            nextpage = driver.find_element(By.XPATH, '/html/body/div[1]/div[2]/div[1]/div[3]/div[5]/div[1]/div[1]/ul/li[{}]'.format(page))\n",
    "            time.sleep(2)\n",
    "            nextpage.click()\n",
    "            time.sleep(2)\n",
    "        \n",
    "        except:\n",
    "            print('ya esta')\n",
    "            break\n",
    "    \n"
   ]
  },
  {
   "cell_type": "code",
   "execution_count": 84,
   "metadata": {},
   "outputs": [
    {
     "name": "stdout",
     "output_type": "stream",
     "text": [
      "se busca en https://www.fravega.com/l/?keyword=notebooks en fecha y hora: 2023-06-13 20:50:51.784351\n",
      "[['Notebook Lenovo IdeaPad 1 14” AMD Ryzen 3 8GB 256GB SSD 82R0004VAR', '$349.999', '$239.999'], ['Notebook Lenovo IdeaPad 1 14” Intel Celeron 4GB 128GB SSD 82V60027AR', '$179.999', '$169.999'], ['Notebook Exo 14\" Intel N4020 4GB 128GB SSD T56 Windows 11', '$189.999', '$166.999'], ['Notebook Dell 15,6” Ryzen 5 8B 256GB SSD INSP3525 94JM5', '$444.999', '$339.999'], ['Notebook Asus 15.6” Intel Core I3 4GB 256GB SSD 91X515EA-BR1751W', '$349.999', '$269.999'], ['Notebook Exo R33 14\" Intel N4020 4GB SSD 64GB W11', '$239.999', '$196.999'], ['Notebook Lenovo 15.6\" Legion 5 Intel I7 16GB 1TB SSD RTX3050Ti 82JK00LWAR', '$949.999', '$799.999'], ['Notebook Banghó Max L5 i7 15,6\" Intel Core i7 8GB 480GB Windows 11', '$489.999', '$440.999'], ['Notebook Lenovo LG5 82JW00Q3A 15.6\" Ryzen 5 8GB 512GB SSD', '$749.999', '$599.999'], ['Notebook Dell 15,6” Core I7 16GB 512GB SSD INSP3525 6MF7H', '$699.999', '$649.999'], ['Notebook CX 14 Qualcom 7C 4GB128GB Win10Pro', '$185.713', '$129.999'], ['Notebook Lenovo IdeaPad 5 14” Intel Core i5 8GB 512GB SSD 82FE01DEAR', '$389.999', '$349.999'], ['Notebook Iqual Nq1 Intel Celeron N4020 4gb 128gb Ssd Windows', '$223.999', '$169.999'], ['Notebook Tecnobrand 11\" Celeron 4020 4GB RAM 128GB SSD W10', '$144.699'], ['Notebook Acer Aspire 5 A515-54-77je I7 8gb Ram 512gb Ssd Win 11', '$699.999', '$529.999']]\n"
     ]
    }
   ],
   "source": [
    "# FRAVEGA\n",
    "opt =  webdriver.ChromeOptions()\n",
    "opt.add_argument('--start-maximized')\n",
    "opt.add_argument('--disable-extensions')\n",
    "\n",
    "\n",
    "driver_path = r'/home/frangr94/Desktop/proyecto_scrapper/webdriver/chromedriver.exe'\n",
    "driver = webdriver.Chrome(options=opt)\n",
    "\n",
    "# inicializar navegador y cargar página completa, espefificar día y hora\n",
    "date_time = str(datetime.datetime.now())\n",
    "megatonetienda='https://www.fravega.com/l/?keyword={}'\n",
    "articulo=['auriculares','notebooks','lavado']\n",
    "\n",
    "buscar=megatonetienda.format(art)\n",
    "driver.get(buscar)\n",
    "time.sleep(5)\n",
    "close = driver.find_element(By.XPATH, '/html/body/div[1]/div[1]/div[1]/button')\n",
    "close.click()\n",
    "time.sleep(1)\n",
    "print(\"se busca en\",buscar,\"en fecha y hora:\",date_time)\n",
    "items=[]\n",
    "for i in range(15):\n",
    "    try:\n",
    "        item = driver.find_elements(By.XPATH,'//*[@id=\"__next\"]/div[2]/div[1]/div[3]/div[5]/ul/li[{}]'.format(i+1))\n",
    "        items.append(item)\n",
    "    except:\n",
    "        break\n",
    "listael=[]\n",
    "for i in items:\n",
    "    for z in i:\n",
    "        v=z.text\n",
    "        listael.append(v)\n",
    "\n",
    "prods=[]\n",
    "for i in listael:\n",
    "    words=i.split('''\\n''')\n",
    "    words=[x for x in words if '¡Retiralo YA!' not in x]\n",
    "    words=[x for x in words if 'Comparar' not in x]\n",
    "    words=[x for x in words if 'Llega GRATIS en 48hs' not in x]\n",
    "    words=[x for x in words if 'Llega en 48hs' not in x]\n",
    "    words=[x for x in words if 'Retiro en 48hs' not in x]\n",
    "    words=[x for x in words if 'Envío GRATIS' not in x]\n",
    "    prods.append(words)\n",
    "\n",
    "\n",
    "lista_items=[]\n",
    "for i in prods:\n",
    "    item=[]\n",
    "    for z in i:\n",
    "        try:\n",
    "            int(z)/2\n",
    "        except:\n",
    "            item.append(z)\n",
    "    lista_items.append(item)\n",
    "\n",
    "\n",
    "print(lista_items)"
   ]
  },
  {
   "cell_type": "code",
   "execution_count": 82,
   "metadata": {},
   "outputs": [],
   "source": [
    "\n"
   ]
  },
  {
   "cell_type": "code",
   "execution_count": 83,
   "metadata": {},
   "outputs": [
    {
     "name": "stdout",
     "output_type": "stream",
     "text": [
      "[['Notebook Lenovo IdeaPad 1 14” AMD Ryzen 3 8GB 256GB SSD 82R0004VAR', '$349.999', '$239.999'], ['Notebook Lenovo IdeaPad 1 14” Intel Celeron 4GB 128GB SSD 82V60027AR', '$179.999', '$169.999'], ['Notebook Exo 14\" Intel N4020 4GB 128GB SSD T56 Windows 11', '$189.999', '$166.999'], ['Notebook Dell 15,6” Ryzen 5 8B 256GB SSD INSP3525 94JM5', '$444.999', '$339.999', 'Retiro en 48hs'], ['Notebook Asus 15.6” Intel Core I3 4GB 256GB SSD 91X515EA-BR1751W', '$349.999', '$269.999'], ['Notebook Exo R33 14\" Intel N4020 4GB SSD 64GB W11', '$239.999', '$196.999'], ['Notebook Lenovo 15.6\" Legion 5 Intel I7 16GB 1TB SSD RTX3050Ti 82JK00LWAR', '$949.999', '$799.999', 'Retiro en 48hs'], ['Notebook Banghó Max L5 i7 15,6\" Intel Core i7 8GB 480GB Windows 11', '$489.999', '$440.999', 'Envío GRATIS'], ['Notebook Lenovo LG5 82JW00Q3A 15.6\" Ryzen 5 8GB 512GB SSD', '$749.999', '$599.999'], ['Notebook Dell 15,6” Core I7 16GB 512GB SSD INSP3525 6MF7H', '$699.999', '$649.999'], ['Notebook CX 14 Qualcom 7C 4GB128GB Win10Pro', '$185.713', '$129.999'], ['Notebook Lenovo IdeaPad 5 14” Intel Core i5 8GB 512GB SSD 82FE01DEAR', '$389.999', '$349.999'], ['Notebook Iqual Nq1 Intel Celeron N4020 4gb 128gb Ssd Windows', '$223.999', '$169.999'], ['Notebook Tecnobrand 11\" Celeron 4020 4GB RAM 128GB SSD W10', '$144.699'], ['Notebook Acer Aspire 5 A515-54-77je I7 8gb Ram 512gb Ssd Win 11', '$699.999', '$529.999']]\n"
     ]
    }
   ],
   "source": [
    "print(otralista)"
   ]
  },
  {
   "cell_type": "code",
   "execution_count": null,
   "metadata": {},
   "outputs": [],
   "source": [
    "/html/body/div[2]/div/div[1]/div/div[2]/div/div[1]/section/div[2]/div/div[5]/section/div/div/ul/li[2]/button\n",
    "/html/body/div[2]/div/div[1]/div/div[2]/div/div[1]/section/div[2]/div/div[5]/section/div/div/ul/li[1]/button\n"
   ]
  }
 ],
 "metadata": {
  "kernelspec": {
   "display_name": "Python 3",
   "language": "python",
   "name": "python3"
  },
  "language_info": {
   "codemirror_mode": {
    "name": "ipython",
    "version": 3
   },
   "file_extension": ".py",
   "mimetype": "text/x-python",
   "name": "python",
   "nbconvert_exporter": "python",
   "pygments_lexer": "ipython3",
   "version": "3.10.6"
  },
  "orig_nbformat": 4
 },
 "nbformat": 4,
 "nbformat_minor": 2
}
