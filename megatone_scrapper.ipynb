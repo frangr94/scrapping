{
 "cells": [
  {
   "cell_type": "code",
   "execution_count": null,
   "id": "babbe016",
   "metadata": {},
   "outputs": [],
   "source": [
    "from selenium import webdriver\n",
    "from selenium.webdriver.support.ui import WebDriverWait\n",
    "from selenium.webdriver.support import expected_conditions as EC\n",
    "from selenium.webdriver.common.by import By\n",
    "from selenium.webdriver.common.action_chains import ActionChains\n",
    "import time\n",
    "import pandas as pd\n",
    "import requests\n",
    "import time\n",
    "import datetime\n",
    "import numpy as np\n",
    "import datetime"
   ]
  },
  {
   "cell_type": "code",
   "execution_count": null,
   "id": "aba9683a",
   "metadata": {},
   "outputs": [],
   "source": [
    "# opciones de navegación\n",
    "# ahora si se puede laburar\n",
    "opt =  webdriver.ChromeOptions()\n",
    "opt.add_argument('--start-maximized')\n",
    "opt.add_argument('--disable-extensions')\n",
    "\n",
    "\n",
    "driver_path = r'/home/frangr94/Desktop/proyecto_scrapper/webdriver/chromedriver.exe'\n",
    "driver = webdriver.Chrome(options=opt)\n",
    "\n",
    "# inicializar navegador y cargar página completa, espefificar día y hora\n",
    "date_time = str(datetime.datetime.now())\n",
    "megatonetienda='https://www.megatone.net/search/{}/'\n",
    "articulo=['auriculares','notebooks','lavado']\n",
    "\n"
   ]
  },
  {
   "cell_type": "code",
   "execution_count": null,
   "id": "fa19ee91",
   "metadata": {},
   "outputs": [],
   "source": [
    "# ir a la busqueda\n",
    "# probemos si es mejor asi\n",
    "data=[]\n",
    "for art in articulo:\n",
    "    buscar=megatonetienda.format(art)\n",
    "    driver.get(buscar)\n",
    "    time.sleep(10)\n",
    "    print(\"se busca en\",buscar,\"en fecha y hora:\",date_time)\n",
    "\n",
    "\n",
    "    # scrapear data scaneando todas las páginas (especificar rango)\n",
    "    itemlist = []\n",
    "    for i in range (100):\n",
    "        page=i+1\n",
    "        items = driver.find_elements(By.CSS_SELECTOR,'div.w100.dIB.AnchoInterno.TextDeco.pR')\n",
    "        for i in range(len(items)):\n",
    "            itemlist.append(items[i].text)\n",
    "        itemlist = list(filter(None,itemlist))\n",
    "        arrayitems=[]\n",
    "        for i in range (len(itemlist)):\n",
    "       \n",
    "            words=str(itemlist[i]).split('\\n')\n",
    "            words=[x for x in words if 'Sin Interés' not in x]\n",
    "            words=[x for x in words if 'OFF' not in x]\n",
    "            words=[x for x in words if 'Envío' not in x]\n",
    "            words=[x for x in words if 'GRATIS' not in x]\n",
    "            if len(words)<3:\n",
    "                words.append('null')\n",
    "            words.append(date_time)\n",
    "            words.append(art)\n",
    "            print(words)\n",
    "\n",
    "            data.append(words)\n",
    "            \n",
    "        \n",
    "\n",
    "        #driver.execute_script(\"window.scrollBy(0,3500)\")\n",
    "        try:\n",
    "            nextpage = driver.find_element(By.XPATH, '//*[@id=\"botones\"]/button[{}]'.format(page))\n",
    "            #actions= ActionChains(driver)\n",
    "            #actions.move_to_element(nextpage).perform\n",
    "            driver.execute_script(\"window.scrollBy(0,2300)\")\n",
    "            time.sleep(2)\n",
    "            nextpage.click()\n",
    "            time.sleep(2)\n",
    "        \n",
    "        except:\n",
    "            print('ya esta')\n",
    "            break\n",
    "    \n"
   ]
  },
  {
   "cell_type": "code",
   "execution_count": null,
   "id": "aa97cb8a",
   "metadata": {},
   "outputs": [],
   "source": [
    "print(len(data))"
   ]
  },
  {
   "cell_type": "code",
   "execution_count": null,
   "id": "4db5626e",
   "metadata": {},
   "outputs": [],
   "source": [
    "# crear csv y etiquetar con fecha actual\n",
    "df = pd.DataFrame(list())\n",
    "df.to_csv('data.csv')\n",
    "\n",
    "import os\n",
    "if os.path.exists('data.csv'):\n",
    "    os.remove('data.csv')\n",
    "else:\n",
    "    print('creando data.csv')\n",
    "\n",
    "import csv\n",
    "fields = ['producto','precio','precio_rebaja','date_time','categoria']\n",
    "rows = data\n",
    "\n",
    "with open ('data.csv', 'w', newline='') as f:\n",
    "    write = csv.writer(f, delimiter='#')\n",
    "    write.writerow(fields)\n",
    "    write.writerows(rows)"
   ]
  },
  {
   "cell_type": "code",
   "execution_count": null,
   "id": "1a6ac189",
   "metadata": {},
   "outputs": [],
   "source": [
    "#esto es un cambio"
   ]
  }
 ],
 "metadata": {
  "kernelspec": {
   "display_name": "Python 3 (ipykernel)",
   "language": "python",
   "name": "python3"
  },
  "language_info": {
   "codemirror_mode": {
    "name": "ipython",
    "version": 3
   },
   "file_extension": ".py",
   "mimetype": "text/x-python",
   "name": "python",
   "nbconvert_exporter": "python",
   "pygments_lexer": "ipython3",
   "version": "3.10.6"
  },
  "vscode": {
   "interpreter": {
    "hash": "c63d8c7d738c2960218a10995aedf0a7f67a49a231e71037adf0440953cdb45b"
   }
  }
 },
 "nbformat": 4,
 "nbformat_minor": 5
}
