{
 "cells": [
  {
   "cell_type": "code",
   "execution_count": 32,
   "metadata": {},
   "outputs": [
    {
     "name": "stdout",
     "output_type": "stream",
     "text": [
      "se busca en https://www.megatone.net/search/motorola e13 64gb/ en fecha y hora: 2023-06-12 19:39:06.096552\n",
      "['Celular Liberado E13 Natural 64 Gb Motorola', '$50,999', '$46,999', '2023-06-12 19:39:06.096552', 'megatone']\n",
      "['Celular Moto E13 64Gb 2Gb Ram Azul Turquesa Motorola', '$46,999', 'null', '2023-06-12 19:39:06.096552', 'megatone']\n",
      "['Celular Moto E13 64Gb 2Gb Ram Color Natural Motorola', '$46,999', 'null', '2023-06-12 19:39:06.096552', 'megatone']\n",
      "['Celular Liberado E13 Natural 64 Gb Motorola', '$79,999', 'null', '2023-06-12 19:39:06.096552', 'megatone']\n",
      "['Celular Moto E13 Azul 64Gb 2Gb - Xt2345-2A Motorola', '$63,999', 'null', '2023-06-12 19:39:06.096552', 'megatone']\n",
      "['Celular Moto E13 Natural 64Gb 2Gb Ram Xt2345-2 Motorola', '$69,999', 'GRATIS', '2023-06-12 19:39:06.096552', 'megatone']\n",
      "data scrapeada\n",
      "se busca en https://www.coppel.com.ar/motorola e13 64gb?_q=motorola e13 64gb&map=ft en fecha y hora: 2023-06-12 19:39:06.096552\n",
      "['Celular Motorola E13 Natural 2GB 64GB', '$ 50.999', '$ 46.999', '2023-06-12 19:39:06.096552', 'coppel']\n",
      "data scrapeada\n"
     ]
    }
   ],
   "source": [
    "from selenium import webdriver\n",
    "from selenium.webdriver.support.ui import WebDriverWait\n",
    "from selenium.webdriver.support import expected_conditions as EC\n",
    "from selenium.webdriver.common.by import By\n",
    "from selenium.webdriver.common.action_chains import ActionChains\n",
    "import time\n",
    "import pandas as pd\n",
    "import requests\n",
    "import time\n",
    "import datetime\n",
    "import numpy as np\n",
    "import datetime\n",
    "\n",
    "opt =  webdriver.ChromeOptions()\n",
    "opt.add_argument('--start-maximized')\n",
    "opt.add_argument('--disable-extensions')\n",
    "\n",
    "\n",
    "driver_path = r'/home/frangr94/Desktop/proyecto_scrapper/webdriver/chromedriver.exe'\n",
    "driver = webdriver.Chrome(options=opt)\n",
    "\n",
    "# inicializar navegador y cargar página completa, espefificar día y hora\n",
    "date_time = str(datetime.datetime.now())\n",
    "\n",
    "import pandas as pd\n",
    "productos = pd.read_csv('productos.csv')\n",
    "\n",
    "\n",
    "\n",
    "def scrap_page(url,art,store):\n",
    "    store=store\n",
    "    driver.get(url)\n",
    "    time.sleep(10)\n",
    "    print(\"se busca en\",url,\"en fecha y hora:\",date_time)\n",
    "    art=art\n",
    "\n",
    "\n",
    "    # scrapear data scaneando todas las páginas (especificar rango)\n",
    "    itemlist = []\n",
    "    data=[]\n",
    "    for i in range (100):\n",
    "        page=i+1\n",
    "        driver.execute_script(\"window.scrollBy(0,50)\")\n",
    "        if store=='megatone':\n",
    "            items = driver.find_elements(By.CSS_SELECTOR,'div.w100.dIB.AnchoInterno.TextDeco.pR')\n",
    "        elif store=='coppel':\n",
    "            items = driver.find_elements(By.CSS_SELECTOR,'.vtex-product-summary-2-x-element')\n",
    "\n",
    "        for i in range(len(items)):\n",
    "            itemlist.append(items[i].text)\n",
    "        itemlist = list(filter(None,itemlist))\n",
    "        arrayitems=[]\n",
    "        for i in range (len(itemlist)):\n",
    "       \n",
    "            words=str(itemlist[i]).split('\\n')\n",
    "            words=[x for x in words if 'Sin Interés' not in x]\n",
    "            words=[x for x in words if 'OFF' not in x]\n",
    "            words=[x for x in words if 'Envío' not in x]\n",
    "            words=[x for x in words if 'Ahorrá' not in x]\n",
    "            words=[x for x in words if '%' not in x]\n",
    "            words=[x for x in words if 'Hasta' not in x]\n",
    "            if len(words)<3:\n",
    "                words.append('null')\n",
    "            words.append(date_time)\n",
    "            words.append(store)\n",
    "            print(words)\n",
    "            data.append(words)\n",
    "\n",
    "        \n",
    "\n",
    "        #driver.execute_script(\"window.scrollBy(0,3500)\")\n",
    "        try:\n",
    "            nextpage = driver.find_element(By.XPATH, '//*[@id=\"botones\"]/button[{}]'.format(page))\n",
    "            #actions= ActionChains(driver)\n",
    "            #actions.move_to_element(nextpage).perform\n",
    "            driver.execute_script(\"window.scrollBy(0,2300)\")\n",
    "            time.sleep(2)\n",
    "            nextpage.click()\n",
    "            time.sleep(2)\n",
    "        \n",
    "        except:\n",
    "            print('data scrapeada')\n",
    "            return data\n",
    "            break\n",
    "    \n",
    "\n",
    "for i in range(len(productos)):\n",
    "    pars=(productos.loc[i,:].values.flatten().tolist())\n",
    "    if pars[1]==\"megatone\":\n",
    "        scrappage='https://www.megatone.net/search/{}/'.format(pars[0])\n",
    "        megatone_data=scrap_page(scrappage,art=pars[0],store='megatone')\n",
    "\n",
    "    elif pars[1]==\"coppel\":\n",
    "        scrappage='https://www.coppel.com.ar/{}?_q={}&map=ft'.format(pars[0],pars[0])\n",
    "        coppel_data=scrap_page(scrappage,art=pars[0],store='coppel')\n",
    "\n",
    "\n"
   ]
  },
  {
   "cell_type": "code",
   "execution_count": 33,
   "metadata": {},
   "outputs": [
    {
     "name": "stdout",
     "output_type": "stream",
     "text": [
      "[['Celular Liberado E13 Natural 64 Gb Motorola', '$50,999', '$46,999', '2023-06-12 19:39:06.096552', 'megatone'], ['Celular Moto E13 64Gb 2Gb Ram Azul Turquesa Motorola', '$46,999', 'null', '2023-06-12 19:39:06.096552', 'megatone'], ['Celular Moto E13 64Gb 2Gb Ram Color Natural Motorola', '$46,999', 'null', '2023-06-12 19:39:06.096552', 'megatone'], ['Celular Liberado E13 Natural 64 Gb Motorola', '$79,999', 'null', '2023-06-12 19:39:06.096552', 'megatone'], ['Celular Moto E13 Azul 64Gb 2Gb - Xt2345-2A Motorola', '$63,999', 'null', '2023-06-12 19:39:06.096552', 'megatone'], ['Celular Moto E13 Natural 64Gb 2Gb Ram Xt2345-2 Motorola', '$69,999', 'GRATIS', '2023-06-12 19:39:06.096552', 'megatone']]\n",
      "[['Celular Motorola E13 Natural 2GB 64GB', '$ 50.999', '$ 46.999', '2023-06-12 19:39:06.096552', 'coppel']]\n"
     ]
    }
   ],
   "source": [
    "print(megatone_data)\n",
    "print(coppel_data)"
   ]
  },
  {
   "cell_type": "code",
   "execution_count": 34,
   "metadata": {},
   "outputs": [
    {
     "name": "stdout",
     "output_type": "stream",
     "text": [
      "[['Celular Motorola E13 Natural 2GB 64GB', '$ 50.999', '$ 46.999', '2023-06-12 19:39:06.096552', 'coppel'], ['Celular Liberado E13 Natural 64 Gb Motorola', '$50,999', '$46,999', '2023-06-12 19:39:06.096552', 'megatone'], ['Celular Moto E13 64Gb 2Gb Ram Azul Turquesa Motorola', '$46,999', 'null', '2023-06-12 19:39:06.096552', 'megatone'], ['Celular Moto E13 64Gb 2Gb Ram Color Natural Motorola', '$46,999', 'null', '2023-06-12 19:39:06.096552', 'megatone'], ['Celular Liberado E13 Natural 64 Gb Motorola', '$79,999', 'null', '2023-06-12 19:39:06.096552', 'megatone'], ['Celular Moto E13 Azul 64Gb 2Gb - Xt2345-2A Motorola', '$63,999', 'null', '2023-06-12 19:39:06.096552', 'megatone'], ['Celular Moto E13 Natural 64Gb 2Gb Ram Xt2345-2 Motorola', '$69,999', 'GRATIS', '2023-06-12 19:39:06.096552', 'megatone']]\n"
     ]
    }
   ],
   "source": [
    "data=[]\n",
    "for i in coppel_data:\n",
    "    data.append(i)\n",
    "\n",
    "for i in megatone_data:\n",
    "    data.append(i)\n",
    "\n",
    "print(data)"
   ]
  },
  {
   "cell_type": "code",
   "execution_count": 35,
   "metadata": {},
   "outputs": [],
   "source": [
    "import csv\n",
    "\n",
    "fields = ['producto','precio','precio_rebaja','date_time','tienda']\n",
    "\n",
    "with open('data.csv','w',newline='') as f:\n",
    "    writer = csv.writer(f,delimiter='#')\n",
    "    writer.writerow(fields)\n",
    "    writer.writerows(data)"
   ]
  },
  {
   "cell_type": "code",
   "execution_count": null,
   "metadata": {},
   "outputs": [],
   "source": []
  }
 ],
 "metadata": {
  "kernelspec": {
   "display_name": "Python 3",
   "language": "python",
   "name": "python3"
  },
  "language_info": {
   "codemirror_mode": {
    "name": "ipython",
    "version": 3
   },
   "file_extension": ".py",
   "mimetype": "text/x-python",
   "name": "python",
   "nbconvert_exporter": "python",
   "pygments_lexer": "ipython3",
   "version": "3.10.6"
  },
  "orig_nbformat": 4
 },
 "nbformat": 4,
 "nbformat_minor": 2
}
