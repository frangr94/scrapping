{
 "cells": [
  {
   "cell_type": "code",
   "execution_count": 1,
   "metadata": {},
   "outputs": [],
   "source": [
    "import pandas as pd\n",
    "import numpy as np"
   ]
  },
  {
   "cell_type": "code",
   "execution_count": 2,
   "metadata": {},
   "outputs": [
    {
     "data": {
      "text/html": [
       "<div>\n",
       "<style scoped>\n",
       "    .dataframe tbody tr th:only-of-type {\n",
       "        vertical-align: middle;\n",
       "    }\n",
       "\n",
       "    .dataframe tbody tr th {\n",
       "        vertical-align: top;\n",
       "    }\n",
       "\n",
       "    .dataframe thead th {\n",
       "        text-align: right;\n",
       "    }\n",
       "</style>\n",
       "<table border=\"1\" class=\"dataframe\">\n",
       "  <thead>\n",
       "    <tr style=\"text-align: right;\">\n",
       "      <th></th>\n",
       "      <th>producto</th>\n",
       "      <th>precio</th>\n",
       "      <th>precio_rebaja</th>\n",
       "      <th>date_time</th>\n",
       "      <th>tienda</th>\n",
       "    </tr>\n",
       "  </thead>\n",
       "  <tbody>\n",
       "    <tr>\n",
       "      <th>0</th>\n",
       "      <td>Celular Motorola G42 Verde 4GB 128GB 4g</td>\n",
       "      <td>$ 94.999</td>\n",
       "      <td>$ 89.999</td>\n",
       "      <td>2023-06-15 19:08:49.704777</td>\n",
       "      <td>coppel</td>\n",
       "    </tr>\n",
       "    <tr>\n",
       "      <th>1</th>\n",
       "      <td>Celular Motorola G32 Gris 4GB 128GB 5g</td>\n",
       "      <td>$ 88.999</td>\n",
       "      <td>$ 77.999</td>\n",
       "      <td>2023-06-15 19:08:49.704777</td>\n",
       "      <td>coppel</td>\n",
       "    </tr>\n",
       "    <tr>\n",
       "      <th>2</th>\n",
       "      <td>Celular Motorola G42 Rosa 4GB 128GB 4g</td>\n",
       "      <td>$ 94.999</td>\n",
       "      <td>$ 89.999</td>\n",
       "      <td>2023-06-15 19:08:49.704777</td>\n",
       "      <td>coppel</td>\n",
       "    </tr>\n",
       "    <tr>\n",
       "      <th>3</th>\n",
       "      <td>Celular Samsung A04 Black 4GB 128GB SM-A045MZK...</td>\n",
       "      <td>$ 79.999</td>\n",
       "      <td>$ 73.999</td>\n",
       "      <td>2023-06-15 19:08:49.704777</td>\n",
       "      <td>coppel</td>\n",
       "    </tr>\n",
       "    <tr>\n",
       "      <th>4</th>\n",
       "      <td>Celular Motorola E32 Gris 4GB 64GB 4g</td>\n",
       "      <td>$ 67.999</td>\n",
       "      <td>NaN</td>\n",
       "      <td>2023-06-15 19:08:49.704777</td>\n",
       "      <td>coppel</td>\n",
       "    </tr>\n",
       "  </tbody>\n",
       "</table>\n",
       "</div>"
      ],
      "text/plain": [
       "                                            producto    precio precio_rebaja  \\\n",
       "0            Celular Motorola G42 Verde 4GB 128GB 4g  $ 94.999      $ 89.999   \n",
       "1             Celular Motorola G32 Gris 4GB 128GB 5g  $ 88.999      $ 77.999   \n",
       "2             Celular Motorola G42 Rosa 4GB 128GB 4g  $ 94.999      $ 89.999   \n",
       "3  Celular Samsung A04 Black 4GB 128GB SM-A045MZK...  $ 79.999      $ 73.999   \n",
       "4              Celular Motorola E32 Gris 4GB 64GB 4g  $ 67.999           NaN   \n",
       "\n",
       "                    date_time  tienda  \n",
       "0  2023-06-15 19:08:49.704777  coppel  \n",
       "1  2023-06-15 19:08:49.704777  coppel  \n",
       "2  2023-06-15 19:08:49.704777  coppel  \n",
       "3  2023-06-15 19:08:49.704777  coppel  \n",
       "4  2023-06-15 19:08:49.704777  coppel  "
      ]
     },
     "execution_count": 2,
     "metadata": {},
     "output_type": "execute_result"
    }
   ],
   "source": [
    "raw_data = pd.read_csv('data.csv',sep='#')\n",
    "raw_data.head()"
   ]
  },
  {
   "cell_type": "code",
   "execution_count": 3,
   "metadata": {},
   "outputs": [
    {
     "data": {
      "text/plain": [
       "3140"
      ]
     },
     "execution_count": 3,
     "metadata": {},
     "output_type": "execute_result"
    }
   ],
   "source": [
    "len(raw_data)"
   ]
  },
  {
   "cell_type": "code",
   "execution_count": 6,
   "metadata": {},
   "outputs": [],
   "source": [
    "muestra_lista = raw_data[['producto','tienda']].sample(n=170)"
   ]
  },
  {
   "cell_type": "code",
   "execution_count": 9,
   "metadata": {},
   "outputs": [
    {
     "data": {
      "text/html": [
       "<div>\n",
       "<style scoped>\n",
       "    .dataframe tbody tr th:only-of-type {\n",
       "        vertical-align: middle;\n",
       "    }\n",
       "\n",
       "    .dataframe tbody tr th {\n",
       "        vertical-align: top;\n",
       "    }\n",
       "\n",
       "    .dataframe thead th {\n",
       "        text-align: right;\n",
       "    }\n",
       "</style>\n",
       "<table border=\"1\" class=\"dataframe\">\n",
       "  <thead>\n",
       "    <tr style=\"text-align: right;\">\n",
       "      <th></th>\n",
       "      <th>producto</th>\n",
       "      <th>tienda</th>\n",
       "    </tr>\n",
       "  </thead>\n",
       "  <tbody>\n",
       "    <tr>\n",
       "      <th>1816</th>\n",
       "      <td>Escritorio Notebook 3045-Coe O Tables</td>\n",
       "      <td>megatone</td>\n",
       "    </tr>\n",
       "    <tr>\n",
       "      <th>3124</th>\n",
       "      <td>Mouse Genius Nx 7010 Blueeye White/red (new Pa...</td>\n",
       "      <td>fravega</td>\n",
       "    </tr>\n",
       "    <tr>\n",
       "      <th>1032</th>\n",
       "      <td>Notebook I7 15Itl6 Ip3 8Gb256ssd W1 Lenovo</td>\n",
       "      <td>megatone</td>\n",
       "    </tr>\n",
       "    <tr>\n",
       "      <th>667</th>\n",
       "      <td>Celular Motorola E22 Negro 3GB 32GB</td>\n",
       "      <td>coppel</td>\n",
       "    </tr>\n",
       "    <tr>\n",
       "      <th>1407</th>\n",
       "      <td>Notebook Ip 3 14Ada05 Athlon 3050U 8Gb 1Tb W11...</td>\n",
       "      <td>megatone</td>\n",
       "    </tr>\n",
       "  </tbody>\n",
       "</table>\n",
       "</div>"
      ],
      "text/plain": [
       "                                               producto    tienda\n",
       "1816              Escritorio Notebook 3045-Coe O Tables  megatone\n",
       "3124  Mouse Genius Nx 7010 Blueeye White/red (new Pa...   fravega\n",
       "1032         Notebook I7 15Itl6 Ip3 8Gb256ssd W1 Lenovo  megatone\n",
       "667                 Celular Motorola E22 Negro 3GB 32GB    coppel\n",
       "1407  Notebook Ip 3 14Ada05 Athlon 3050U 8Gb 1Tb W11...  megatone"
      ]
     },
     "execution_count": 9,
     "metadata": {},
     "output_type": "execute_result"
    }
   ],
   "source": [
    "muestra_lista.head()"
   ]
  },
  {
   "cell_type": "code",
   "execution_count": 10,
   "metadata": {},
   "outputs": [
    {
     "name": "stdout",
     "output_type": "stream",
     "text": [
      "<class 'pandas.core.frame.DataFrame'>\n",
      "Index: 170 entries, 1816 to 147\n",
      "Data columns (total 2 columns):\n",
      " #   Column    Non-Null Count  Dtype \n",
      "---  ------    --------------  ----- \n",
      " 0   producto  170 non-null    object\n",
      " 1   tienda    170 non-null    object\n",
      "dtypes: object(2)\n",
      "memory usage: 4.0+ KB\n"
     ]
    }
   ],
   "source": [
    "muestra_lista.info()"
   ]
  },
  {
   "cell_type": "code",
   "execution_count": 12,
   "metadata": {},
   "outputs": [],
   "source": [
    "muestra_lista.to_csv('productos.csv',sep=',',index=None)"
   ]
  },
  {
   "cell_type": "code",
   "execution_count": null,
   "metadata": {},
   "outputs": [],
   "source": []
  }
 ],
 "metadata": {
  "kernelspec": {
   "display_name": "Python 3",
   "language": "python",
   "name": "python3"
  },
  "language_info": {
   "codemirror_mode": {
    "name": "ipython",
    "version": 3
   },
   "file_extension": ".py",
   "mimetype": "text/x-python",
   "name": "python",
   "nbconvert_exporter": "python",
   "pygments_lexer": "ipython3",
   "version": "3.10.6"
  },
  "orig_nbformat": 4
 },
 "nbformat": 4,
 "nbformat_minor": 2
}
