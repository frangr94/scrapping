{
 "cells": [
  {
   "cell_type": "code",
   "execution_count": 18,
   "metadata": {},
   "outputs": [],
   "source": [
    "with open('password.txt') as f:\n",
    "    text=f.readline()\n",
    "\n",
    "text=str.strip(text)\n"
   ]
  },
  {
   "cell_type": "code",
   "execution_count": 9,
   "metadata": {},
   "outputs": [
    {
     "data": {
      "text/html": [
       "<div>\n",
       "<style scoped>\n",
       "    .dataframe tbody tr th:only-of-type {\n",
       "        vertical-align: middle;\n",
       "    }\n",
       "\n",
       "    .dataframe tbody tr th {\n",
       "        vertical-align: top;\n",
       "    }\n",
       "\n",
       "    .dataframe thead th {\n",
       "        text-align: right;\n",
       "    }\n",
       "</style>\n",
       "<table border=\"1\" class=\"dataframe\">\n",
       "  <thead>\n",
       "    <tr style=\"text-align: right;\">\n",
       "      <th></th>\n",
       "      <th>producto</th>\n",
       "      <th>precio</th>\n",
       "      <th>precio_rebaja</th>\n",
       "      <th>date_time</th>\n",
       "      <th>categoria</th>\n",
       "    </tr>\n",
       "  </thead>\n",
       "  <tbody>\n",
       "    <tr>\n",
       "      <th>0</th>\n",
       "      <td>Auricular Inalámbrico In Ear B13 Earbuds Negro...</td>\n",
       "      <td>$9,294</td>\n",
       "      <td>NaN</td>\n",
       "      <td>2023-06-09 01:23:07.858730</td>\n",
       "      <td>auriculares</td>\n",
       "    </tr>\n",
       "    <tr>\n",
       "      <th>1</th>\n",
       "      <td>Auricular Con Cable In Ear Taue100bk/00 Negro ...</td>\n",
       "      <td>$2,479</td>\n",
       "      <td>NaN</td>\n",
       "      <td>2023-06-09 01:23:07.858730</td>\n",
       "      <td>auriculares</td>\n",
       "    </tr>\n",
       "    <tr>\n",
       "      <th>2</th>\n",
       "      <td>Auricular Con Cable In Ear Eo-Ic100bbegww Negr...</td>\n",
       "      <td>$8,499</td>\n",
       "      <td>NaN</td>\n",
       "      <td>2023-06-09 01:23:07.858730</td>\n",
       "      <td>auriculares</td>\n",
       "    </tr>\n",
       "    <tr>\n",
       "      <th>3</th>\n",
       "      <td>Aur Earbud Sl-Ebsp101 Ng Smartlife</td>\n",
       "      <td>$4,775</td>\n",
       "      <td>$3,299</td>\n",
       "      <td>2023-06-09 01:23:07.858730</td>\n",
       "      <td>auriculares</td>\n",
       "    </tr>\n",
       "    <tr>\n",
       "      <th>4</th>\n",
       "      <td>Auricular Con Cable In Ear Eo-Ic100bbegww Blan...</td>\n",
       "      <td>$8,499</td>\n",
       "      <td>NaN</td>\n",
       "      <td>2023-06-09 01:23:07.858730</td>\n",
       "      <td>auriculares</td>\n",
       "    </tr>\n",
       "  </tbody>\n",
       "</table>\n",
       "</div>"
      ],
      "text/plain": [
       "                                            producto  precio precio_rebaja  \\\n",
       "0  Auricular Inalámbrico In Ear B13 Earbuds Negro...  $9,294           NaN   \n",
       "1  Auricular Con Cable In Ear Taue100bk/00 Negro ...  $2,479           NaN   \n",
       "2  Auricular Con Cable In Ear Eo-Ic100bbegww Negr...  $8,499           NaN   \n",
       "3                 Aur Earbud Sl-Ebsp101 Ng Smartlife  $4,775        $3,299   \n",
       "4  Auricular Con Cable In Ear Eo-Ic100bbegww Blan...  $8,499           NaN   \n",
       "\n",
       "                    date_time    categoria  \n",
       "0  2023-06-09 01:23:07.858730  auriculares  \n",
       "1  2023-06-09 01:23:07.858730  auriculares  \n",
       "2  2023-06-09 01:23:07.858730  auriculares  \n",
       "3  2023-06-09 01:23:07.858730  auriculares  \n",
       "4  2023-06-09 01:23:07.858730  auriculares  "
      ]
     },
     "execution_count": 9,
     "metadata": {},
     "output_type": "execute_result"
    }
   ],
   "source": [
    "import pandas as pd\n",
    "\n",
    "df=pd.read_csv('data.csv', sep='#')\n",
    "df.head(5)"
   ]
  },
  {
   "cell_type": "code",
   "execution_count": 19,
   "metadata": {},
   "outputs": [],
   "source": [
    "# voy a probar to_sql -> funciona y es muy simple, estaria el writer\n",
    "from sqlalchemy import create_engine\n",
    "\n",
    "# credenciales\n",
    "hostname=\"localhost\"\n",
    "dbname=\"megatone_scrap\"\n",
    "uname=\"root\"\n",
    "pwd=text\n",
    "\n",
    "engine=create_engine(\"mysql+pymysql://{user}:{pw}@{host}/{db}\".format(host=hostname,db=dbname,user=uname,pw=pwd))"
   ]
  },
  {
   "cell_type": "code",
   "execution_count": 20,
   "metadata": {},
   "outputs": [
    {
     "data": {
      "text/plain": [
       "6228"
      ]
     },
     "execution_count": 20,
     "metadata": {},
     "output_type": "execute_result"
    }
   ],
   "source": [
    "df.to_sql('prueba',engine,index=False)"
   ]
  }
 ],
 "metadata": {
  "kernelspec": {
   "display_name": "Python 3",
   "language": "python",
   "name": "python3"
  },
  "language_info": {
   "codemirror_mode": {
    "name": "ipython",
    "version": 3
   },
   "file_extension": ".py",
   "mimetype": "text/x-python",
   "name": "python",
   "nbconvert_exporter": "python",
   "pygments_lexer": "ipython3",
   "version": "3.10.6"
  },
  "orig_nbformat": 4
 },
 "nbformat": 4,
 "nbformat_minor": 2
}
